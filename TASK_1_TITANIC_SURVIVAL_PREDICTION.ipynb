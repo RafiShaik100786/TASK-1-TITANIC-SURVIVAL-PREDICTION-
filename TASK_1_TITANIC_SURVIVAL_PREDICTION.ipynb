{
  "nbformat": 4,
  "nbformat_minor": 0,
  "metadata": {
    "colab": {
      "private_outputs": true,
      "provenance": []
    },
    "kernelspec": {
      "name": "python3",
      "display_name": "Python 3"
    },
    "language_info": {
      "name": "python"
    }
  },
  "cells": [
    {
      "cell_type": "markdown",
      "source": [
        "## **CODSOFT INTERNSHIP**"
      ],
      "metadata": {
        "id": "9iMu2R5J_lso"
      }
    },
    {
      "cell_type": "markdown",
      "source": [
        "### **TASK-1 : TITANIC SURVIVAL PREDICTION**\n",
        "\n",
        "## Author:Shaik Rafi\n",
        "\n",
        "## Batch:Jun\n",
        "\n",
        "## Domain:Data Science\n",
        "\n",
        "## AIM\n",
        "\n",
        "### .Motto of the project is to build a machine learning model to predict the passenger survival and I have used the Titanic dataset downloaded from the Kaggle website as per CodSoft instructions for this project.\n",
        "\n",
        "###  .In this project, I have implemented Logistic Regression With Python and Scikit-Learn. I build a model to predict whether the passenger survived or not by training a binary classification model using  Logistic Regression.\n",
        "\n",
        "### .Accuracy of the model is calculated and established with the help of Evaluation Metrics."
      ],
      "metadata": {
        "id": "UIh9iqAA_3J5"
      }
    },
    {
      "cell_type": "code",
      "source": [
        "# Import Libraries for data processing and modelling\n",
        "import numpy as np\n",
        "import pandas as pd\n",
        "import matplotlib.pyplot as plt\n",
        "import seaborn as sns\n",
        "import io\n"
      ],
      "metadata": {
        "id": "z69qbFOb_5GM"
      },
      "execution_count": null,
      "outputs": []
    },
    {
      "cell_type": "code",
      "source": [
        "from google.colab import files\n",
        "uploaded = files.upload()"
      ],
      "metadata": {
        "id": "6JdBHEc-_vei"
      },
      "execution_count": null,
      "outputs": []
    },
    {
      "cell_type": "code",
      "source": [
        "# Dataset First Look\n",
        "import io\n",
        "titanic_df = pd.read_csv((io.BytesIO(uploaded['Titanic-Dataset.csv'])))\n",
        "titanic_df.head(5)"
      ],
      "metadata": {
        "id": "10spj3i9O9Qp"
      },
      "execution_count": null,
      "outputs": []
    },
    {
      "cell_type": "code",
      "source": [
        "titanic_df.describe()"
      ],
      "metadata": {
        "id": "-_ZSCsbUQHLP"
      },
      "execution_count": null,
      "outputs": []
    },
    {
      "cell_type": "code",
      "source": [
        "titanic_df.shape"
      ],
      "metadata": {
        "id": "zVABVxU3QTS5"
      },
      "execution_count": null,
      "outputs": []
    },
    {
      "cell_type": "code",
      "source": [
        "titanic_df.info()"
      ],
      "metadata": {
        "id": "EnVqpwRWQmB2"
      },
      "execution_count": null,
      "outputs": []
    },
    {
      "cell_type": "code",
      "source": [
        "# Visualizing the missing values using heatmap\n",
        "sns.heatmap(titanic_df.isnull())"
      ],
      "metadata": {
        "id": "dgWjdVDeQsoz"
      },
      "execution_count": null,
      "outputs": []
    },
    {
      "cell_type": "code",
      "source": [
        "ports = pd.get_dummies(titanic_df.Embarked, prefix='Embarked', dtype=int)\n",
        "ports.head()"
      ],
      "metadata": {
        "id": "jWX-G_CYRNH3"
      },
      "execution_count": null,
      "outputs": []
    },
    {
      "cell_type": "code",
      "source": [
        "titanic_df = titanic_df.join(ports)"
      ],
      "metadata": {
        "id": "LpgHM0CxRvfp"
      },
      "execution_count": null,
      "outputs": []
    },
    {
      "cell_type": "code",
      "source": [
        "titanic_df.drop(['Embarked'],axis=1, inplace=True)"
      ],
      "metadata": {
        "id": "G25sDZQQSCX_"
      },
      "execution_count": null,
      "outputs": []
    },
    {
      "cell_type": "code",
      "source": [
        "titanic_df.head()"
      ],
      "metadata": {
        "id": "vdAMkUgNSZjb"
      },
      "execution_count": null,
      "outputs": []
    },
    {
      "cell_type": "code",
      "source": [
        "titanic_df.Sex=titanic_df.Sex.map({'male':0, 'female':1})"
      ],
      "metadata": {
        "id": "CbZgZ6WPShfA"
      },
      "execution_count": null,
      "outputs": []
    },
    {
      "cell_type": "code",
      "source": [
        "titanic_df['Sex']"
      ],
      "metadata": {
        "id": "mOUxbGBATEXP"
      },
      "execution_count": null,
      "outputs": []
    },
    {
      "cell_type": "code",
      "source": [
        "# Splitting the data\n",
        "Y= titanic_df.Survived.copy()\n",
        "X=titanic_df.drop(['Survived'], axis=1)"
      ],
      "metadata": {
        "id": "3yW8ugEITQMN"
      },
      "execution_count": null,
      "outputs": []
    },
    {
      "cell_type": "code",
      "source": [
        "# We are dropping the attributed which does not have a stronger coorelation to affect the outcome\n",
        "X.drop(['Cabin',  'Ticket',  'Name',  'PassengerId'],  axis = 1, inplace=True)\n"
      ],
      "metadata": {
        "id": "Ni4u0F-dUHKE"
      },
      "execution_count": null,
      "outputs": []
    },
    {
      "cell_type": "code",
      "source": [
        "X.isnull().sum()"
      ],
      "metadata": {
        "id": "AizbsjtYWOV4"
      },
      "execution_count": null,
      "outputs": []
    },
    {
      "cell_type": "code",
      "source": [
        "# As per prior result we have null values in the Age Component, we are replacing the null values with mean\n",
        "X.Age.fillna(X.Age.mean(),inplace=True)"
      ],
      "metadata": {
        "id": "MwxrlosmWW5K"
      },
      "execution_count": null,
      "outputs": []
    },
    {
      "cell_type": "code",
      "source": [
        "# chacking any null  values present\n",
        "X.isnull().values.any()"
      ],
      "metadata": {
        "id": "4PSmYa-bW8Ng"
      },
      "execution_count": null,
      "outputs": []
    },
    {
      "cell_type": "code",
      "source": [
        "# Import libraries for Model buliding\n",
        "from sklearn.model_selection import  train_test_split"
      ],
      "metadata": {
        "id": "5sj5QEz6X40U"
      },
      "execution_count": null,
      "outputs": []
    },
    {
      "cell_type": "code",
      "source": [
        "#Spliting the data to trian our model and test its accuracy\n",
        "X_train, X_test, Y_train, Y_test = train_test_split(X, Y, test_size=0.2,  random_state=7)"
      ],
      "metadata": {
        "id": "yL10VmgxX97o"
      },
      "execution_count": null,
      "outputs": []
    },
    {
      "cell_type": "code",
      "source": [
        "# Import Regression libraries for Model buliding\n",
        "from sklearn.linear_model import LogisticRegression\n",
        "\n",
        "#Initialize it to a name\n",
        "model = LogisticRegression()"
      ],
      "metadata": {
        "id": "3pCCeIa4YrxU"
      },
      "execution_count": null,
      "outputs": []
    },
    {
      "cell_type": "code",
      "source": [
        "#Fitting our data to the model\n",
        "model.fit(X_train, Y_train)"
      ],
      "metadata": {
        "id": "H8og12WfZmO0"
      },
      "execution_count": null,
      "outputs": []
    },
    {
      "cell_type": "code",
      "source": [
        "model.score(X_train, Y_train)"
      ],
      "metadata": {
        "id": "QKNzHgRjbV17"
      },
      "execution_count": null,
      "outputs": []
    },
    {
      "cell_type": "code",
      "source": [
        "# Predict on the model\n",
        "Y_pred_test = model.predict(X_test)\n",
        "Y_pred_test"
      ],
      "metadata": {
        "id": "S-d85L4gbg4U"
      },
      "execution_count": null,
      "outputs": []
    },
    {
      "cell_type": "code",
      "source": [
        "Y_test"
      ],
      "metadata": {
        "id": "WgRyRC6dcDrj"
      },
      "execution_count": null,
      "outputs": []
    },
    {
      "cell_type": "code",
      "source": [
        "X_test"
      ],
      "metadata": {
        "id": "zuXDleR4cJao"
      },
      "execution_count": null,
      "outputs": []
    },
    {
      "cell_type": "code",
      "source": [
        "#Import Metrics to Chack Accuracy\n",
        "from sklearn.metrics import accuracy_score\n",
        "print('Model accuracy score: {0:0.4f})'.format(accuracy_score(Y_test, Y_pred_test)))"
      ],
      "metadata": {
        "id": "hik-MSJBcP08"
      },
      "execution_count": null,
      "outputs": []
    },
    {
      "cell_type": "code",
      "source": [
        "Task 1 is completed"
      ],
      "metadata": {
        "id": "fVj_JfjRdEJ6"
      },
      "execution_count": null,
      "outputs": []
    }
  ]
}